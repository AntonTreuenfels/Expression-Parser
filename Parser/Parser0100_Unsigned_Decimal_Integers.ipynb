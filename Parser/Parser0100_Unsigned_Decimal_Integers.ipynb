{
 "cells": [
  {
   "cell_type": "markdown",
   "metadata": {},
   "source": [
    "# Parser 1.00 - Unsigned Decimal Integer Literals\n",
    "\n",
    "The first goal of the parser is to have it accept unsigned decimal integer literals. That is, strings of characters consisting of one or more of the digits '0' to '9'. If such string is recognized, then convert it to internal binary form. This is usually (but not always) some form of [two's complement](https://en.wikipedia.org/wiki/Two's_complement).\n",
    "\n",
    "It is true that Python will happily [covert decimal literals expressed as strings into its internal form](https://docs.python.org/3.4/library/functions.html?highlight=int#int) without any fuss at all. As a learning exercise we're simply going to ignore that inconvenient fact in favor of doing the job manually.\n",
    "\n",
    "We also want the parser to reject any string which does not consist of only decimal digit characters.\n",
    "\n",
    "\n",
    "## Library"
   ]
  },
  {
   "cell_type": "code",
   "execution_count": null,
   "metadata": {},
   "outputs": [],
   "source": [
    "import re         # Python regular expressions"
   ]
  },
  {
   "cell_type": "markdown",
   "metadata": {},
   "source": [
    "The easiest way to recognize unsigned decimal literals is to use [regular expressions](https://en.wikipedia.org/wiki/Regular_expression). The Python library module [re](https://docs.python.org/3/library/re.html) provides [Perl-style](https://www.regular-expressions.info/perl.html) regular expressions (as opposed to [Posix-style](https://www.regular-expressions.info./posix.html)).\n",
    "\n",
    "The parser will use regular expressions extensively to simplify the job of matching things we might be looking for in expressions. This effectively sweeps most of the mechanics of pattern matching \"under the rug\". We do this partly to avoid cluttering up the overall presentation and partly because the mechanics of matching is not really what this series is about anyway.\n",
    "\n",
    "It is not the purpose of this series to teach how to use regular expressions, although some effort will be made to explain what any particular one is supposed to do. If you are already familiar with regular expressions you know how useful they can be. If you are not, a simple search using any popular engine will turn up many tutorials and references of varying quality.\n",
    "\n",
    ">Python's own documentation includes both a [tutorial](https://docs.python.org/3/howto/regex.html) and a [reference](https://docs.python.org/3/library/re.html). Another good source is [www.regular-expressions.info](https://www.regular-expressions.info/).\n"
   ]
  },
  {
   "cell_type": "markdown",
   "metadata": {},
   "source": [
    "## User output"
   ]
  },
  {
   "cell_type": "code",
   "execution_count": null,
   "metadata": {},
   "outputs": [],
   "source": [
    "def UIwriteln(this):\n",
    "    '''write a single line to output'''\n",
    "    print( f'{this}\\n' )\n",
    "    \n",
    "def UIwriteSep():\n",
    "    '''write a visual seperator'''\n",
    "    UIwriteln( '--------------')\n",
    "\n",
    "def UIshow(tag, value):\n",
    "    '''write a tagged value to output'''\n",
    "    UIwriteln( f'{tag}: {value}' )\n",
    "\n",
    "def UIerror(this):\n",
    "    '''write an error message to output'''\n",
    "    UIshow( 'Error', this )"
   ]
  },
  {
   "cell_type": "markdown",
   "metadata": {},
   "source": [
    "Since the parser should detect incorrect input, we add a function to allow it to inform the user of errors."
   ]
  },
  {
   "cell_type": "markdown",
   "metadata": {},
   "source": [
    "# Parser"
   ]
  },
  {
   "cell_type": "code",
   "execution_count": null,
   "metadata": {},
   "outputs": [],
   "source": [
    "versionNumber = '1.00'\n",
    "\n",
    "# operands accepted:\n",
    "# - decimal integer literals\n",
    "\n",
    "# errors detected:\n",
    "# - unrecognized input\n",
    "# - out of range numeric input\n",
    "\n",
    "# result tuple:\n",
    "# - (True, number)\n",
    "# - (False, None)\n",
    "\n",
    "def PEdoparse(this):\n",
    "    \n",
    "    uintMax = 4294967295                  # 2**32-1, for range checking\n",
    "    \n",
    "    # convert unsigned decimal literal to internal form\n",
    "    # - all chars in input known to be decimal characters\n",
    "    # - checks that value is within range\n",
    "    \n",
    "    def convertUint(ulit):\n",
    "        \n",
    "        uint = 0\n",
    "        for digit in ulit:\n",
    "            digval = '0123456789'.find(digit)\n",
    "            if uint <= (uintMax - digval)/10:\n",
    "                uint =  uint * 10 + digval\n",
    "            else:\n",
    "                UIerror(f'\\'{ulit}\\' is out of range')\n",
    "                return (False, None)\n",
    "        \n",
    "        return (True, uint)\n",
    "        \n",
    "    # top level\n",
    "    \n",
    "    if re.fullmatch('[0-9]+', this):\n",
    "        return convertUint(this)\n",
    "    else:\n",
    "        UIerror(f'\\'{this}\\' not recognized')\n",
    "        return (False, None)\n"
   ]
  },
  {
   "cell_type": "markdown",
   "metadata": {},
   "source": [
    "### How it works\n",
    "\n",
    "The regular expression used here simply means *a string consisting of one or more decimal characters*. Any other character included in the string causes the input string to be rejected as erroneous (in particular, any leading or trailing spaces).\n",
    "\n",
    "The nested conversion function uses a fairly simple algorithm. Set the current value to zero. Beginning at the first character of the input string and for each character thereafter, extract it, multiply the current value by 10 (because this is a decimal value, each digit represents a power of 10) and add the value represented by the current digit character.\n",
    "\n",
    "A slight complication arises because decimal digit *characters* are not the same as decimal digit *values*.  In the [ASCII character set](https://en.wikipedia.org/wiki/ASCII), for example, the character ‘0’ is the 49th member and has a value of 48 (starting from zero). Put another way, if the bit pattern in a computer memory cell is interpreted as an ASCII character to display, a value of 48 in that cell will cause a picture (or *glyph*) of the character ‘0’ to be shown.\n",
    "\n",
    "To convert from character value to decimal value we use the *find()* string method. We've arranged the string to be searched so that each decimal digit appears at the index which represents its value. We don't need to worry that *find()* will return -1, indicating that no match with the current digit character occurred, since we already ruled that possibility out at the top level.\n",
    "\n",
    "Another complication arises from the possibility of overflow. As the input string is allowed to be any length, it is conceivable that as a string it represents a value larger than can be represented internally. Since there are an infinite number of integers but digital computers are finite, every one must have some limit on how large an integer it can programmed to handle.\n",
    "\n",
    "The parser has this limit set artificially low, to a little over four billion (4,294,967,295). This is the value stored in the variable *uintMax* (unsigned integer Maximum). It is much less than Python’s real upper limit, but is a convenient value for studying the problem.\n",
    "\n",
    ">For most programming languages, anyway. Python 3 is actually unusual in that it has no explicitly defined maximum integer. In theory integers are allowed to grow with unlimited precision. In practice there must always be some hardware limit beyond which there is simply no more room to store a value.\n",
    "\n",
    "Overflow during conversion occurs if the result of multiplying the current value by 10 and adding a new digit exceeds the maximum representable value:\n",
    "\n",
    "```Python\n",
    "uint * 10 + digval > uintMax\n",
    "```\n",
    "\n",
    "But this cannot be checked after performing the operations. The very definition of “maximum representable value” means that it is not possible to represent a larger value. Whatever the result of an overflow condition actually is, it is not larger than *uintMax*.\n",
    "\n",
    "In practice what happens most often in cases of overflow is *wrapping*. If the largest representable value has **M** bits (where at present **M** is typically 32 or 64), results of addition can have at most **M + 1** bits and results of multiplication **2 * M** bits. Wrapping occurs if the result of every arithmetic operation is truncated to at most **M** bits, which can always be represented. Another way to look at it is that computer arithmetic is often modular.\n",
    "\n",
    "If the truncation happens silently (as it most often does), the inequality above cannot help to detect overflow. Because under conventional precedence rules the comparison operator has the lowest priority in the expression, by the time it is executed any wrapping involved has already occurred. Thus the value to its left is always less than or equal to the representable maximum on its right.\n",
    "\n",
    "All is not lost. The inequality can be re-arranged to the equivalent form:\n",
    "\n",
    "```Python\n",
    "uint > (unintMax - digval) / 10\n",
    "```\n",
    "\n",
    "It is clear the right hand side must always be less than *unintMax*, and so can never overflow. This is still not much help if *uint*  has already overflowed, but suppose we apply the test *before* attempting to add the next digit rather than after? At that point *uint* is also always less then *uintMax*. If the test condition is false, the result of multiplying the current value by 10 and adding the next digit will always be less than or equal to *unintMax*. If the condition is true, the result would overflow the largest representable value.\n",
    "\n",
    "What is really detected here is not that overflow has occurred, but that it is *about* to occur. Which is quite often the best way to handle the problem from the point of view of computer arithmetic.\n",
    "\n",
    "In the parser the condition of the overflow test is reversed:\n",
    "\n",
    "```Python\n",
    "uint <= (unintMax - digval) / 10\n",
    "```\n",
    "\n",
    "Written this way a true result rather than a false one allows us to safely add the next digit to the accumulating result. This enables us to put the shorter branch closest to the test in the source code, which is often the most readable way to arrange things.\n",
    "\n",
    "The shorter branch also happens to be the most often executed – the longer branch will execute at most once – and there is sometimes a (very) slight speed advantage to placing the most often executed branch closest to the test. If there is any advantage, it derives from the specific way the underlying hardware handles conditional tests and control flow changes based on them. In most cases it’s better to focus on readability."
   ]
  },
  {
   "cell_type": "markdown",
   "metadata": {},
   "source": [
    "# Evaluator"
   ]
  },
  {
   "cell_type": "code",
   "execution_count": null,
   "metadata": {},
   "outputs": [],
   "source": [
    "# a null evaluator that does nothing\n",
    "\n",
    "def EEdoeval(this):\n",
    "    return (True, this)\n"
   ]
  },
  {
   "cell_type": "markdown",
   "metadata": {},
   "source": [
    "# Interacting with the parser"
   ]
  },
  {
   "cell_type": "code",
   "execution_count": null,
   "metadata": {},
   "outputs": [],
   "source": [
    "passCnt = failCnt = 0                       # most useful for test input files, but never any harm\n",
    "\n",
    "def startUp():\n",
    "    '''begin execution'''\n",
    "    global passCnt, failCnt\n",
    "    UIshow( 'Parser', versionNumber )\n",
    "    passCnt = failCnt = 0\n",
    "    \n",
    "def shutDown():\n",
    "    '''terminate execution'''\n",
    "    UIwriteSep()\n",
    "    UIshow( 'Pass', passCnt )\n",
    "    UIshow( 'Fail', failCnt )\n",
    "    \n",
    "# run parser\n",
    "\n",
    "def parseOne(this):\n",
    "    '''parse/evaluate one expression'''\n",
    "    global passCnt, failCnt\n",
    "    UIwriteSep()\n",
    "    UIshow( 'Input', this )\n",
    "    ok, res = PEdoparse( this )\n",
    "    if ok:\n",
    "        UIshow( 'Final Parse', res )\n",
    "        ok, res = EEdoeval( res )\n",
    "        if ok:\n",
    "            UIshow( 'Final Eval', res )\n",
    "    if ok:\n",
    "        passCnt += 1\n",
    "    else:\n",
    "        failCnt += 1\n",
    " "
   ]
  },
  {
   "cell_type": "markdown",
   "metadata": {},
   "source": [
    "We are going to use files containing expression tests to help development. Here we introduce two global variables, *passCnt* and *failCnt*, to let us keep track of how many of our tests passed or failed, respectively."
   ]
  },
  {
   "cell_type": "markdown",
   "metadata": {},
   "source": [
    "## Interactive use"
   ]
  },
  {
   "cell_type": "code",
   "execution_count": null,
   "metadata": {},
   "outputs": [],
   "source": [
    "def parse():\n",
    "    \n",
    "    startUp()\n",
    "    while True:\n",
    "        inp = input( 'Expression: ' )\n",
    "        UIwriteln( '' )                      # looks better with a blank line here\n",
    "        if inp.upper()[0] == 'Q':\n",
    "            break\n",
    "        elif inp.strip():\n",
    "            parseOne( inp )\n",
    "    shutDown()"
   ]
  },
  {
   "cell_type": "markdown",
   "metadata": {},
   "source": [
    "## Batch processing"
   ]
  },
  {
   "cell_type": "code",
   "execution_count": null,
   "metadata": {},
   "outputs": [],
   "source": [
    "testDir = '..\\\\ParserTest\\\\'            # directory holding test input files (empty string if same as notebook directory)\n",
    "    \n",
    "# run one test\n",
    "\n",
    "def runTest(this):\n",
    "    \n",
    "    # create the name of the test file\n",
    "    # - done this way so we can update only the version number and everything still works\n",
    "\n",
    "    head = versionNumber[:len(versionNumber)-3]\n",
    "    tail = versionNumber[-2:]\n",
    "    fn = f'{testDir}{this}{head:0>2}{tail}.txt'\n",
    "    \n",
    "    UIwriteln(f'Parser {versionNumber} vs {fn[-12:-4]}')\n",
    "    \n",
    "    with open(fn) as f:\n",
    "        data = f.readlines()              # read the whole test file\n",
    "    for line in data:\n",
    "        test = line.strip()\n",
    "        if test and test[0] != '#':       # skip blank and comment lines\n",
    "            parseOne(test)\n",
    "    \n",
    "# run a test which should succeed\n",
    "    \n",
    "def good():\n",
    "    \n",
    "    startUp()\n",
    "    runTest('pass')\n",
    "    shutDown()\n",
    "    \n",
    "# run a test which should fail\n",
    "\n",
    "def bad():\n",
    "    \n",
    "    startUp()\n",
    "    runTest('fail')\n",
    "    shutDown()\n",
    "            "
   ]
  },
  {
   "cell_type": "markdown",
   "metadata": {},
   "source": [
    "### Testing the parser\n",
    "\n",
    "It is almost not possible to over-emphasize how important testing is in program development. While it is always gratifying to know that a program behaves as expected, it is also usually quite instructive to understand exactly why it does not. By developing tests for each new version of the parser, we can also help guarantee that our most recent changes do not break anything that previously worked.\n",
    "\n",
    "Beyond the null version, there are three files associated with most parser versions, the parser itself and two test files:\n",
    "\n",
    "- `parserXXXX.ipynb`\n",
    "\n",
    "- `passXXXX.txt`\n",
    "\n",
    "- `failXXXX.txt`\n",
    "\n",
    "where **XXXX** is a four-digit number corresponding to the parser version. For example, this parser is version 1.00 and the associated Jupyter notebook file is named **parser0100.ipynb**. The two test files for this version are simple text files  called **pass0100.txt** (all expressions in it should be accepted) and **fail0100.txt** (all expressions should be rejected).\n",
    "\n",
    "It is often helpful to make testing as easy as possible (and thus more likely to actually happen). To this end two new no-argument functions are added to the interaction section: *good()*, which tests the current version of the parser against its own **passXXXX.txt** file, and *bad()*, which does the same for the **failXXXX.txt** file."
   ]
  },
  {
   "cell_type": "code",
   "execution_count": null,
   "metadata": {},
   "outputs": [],
   "source": [
    "parse()  # interactive, one expression at a time"
   ]
  },
  {
   "cell_type": "code",
   "execution_count": null,
   "metadata": {},
   "outputs": [],
   "source": [
    "good()   # run 'all expressions pass' test file for this parser"
   ]
  },
  {
   "cell_type": "code",
   "execution_count": null,
   "metadata": {},
   "outputs": [],
   "source": [
    "bad()    # run 'all expressions fail' test file for this parser"
   ]
  },
  {
   "cell_type": "code",
   "execution_count": null,
   "metadata": {},
   "outputs": [],
   "source": []
  }
 ],
 "metadata": {
  "kernelspec": {
   "display_name": "Python 3",
   "language": "python",
   "name": "python3"
  },
  "language_info": {
   "codemirror_mode": {
    "name": "ipython",
    "version": 3
   },
   "file_extension": ".py",
   "mimetype": "text/x-python",
   "name": "python",
   "nbconvert_exporter": "python",
   "pygments_lexer": "ipython3",
   "version": "3.7.5"
  }
 },
 "nbformat": 4,
 "nbformat_minor": 2
}
