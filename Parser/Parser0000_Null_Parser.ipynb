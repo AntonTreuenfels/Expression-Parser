{
 "cells": [
  {
   "cell_type": "markdown",
   "metadata": {},
   "source": [
    "# Parser 0.00 - Null Parser\n",
    "\n",
    "\n",
    "## Introduction\n",
    "\n",
    "This series presents a parser of the kinds of expressions commonly found in computer languages, along with an accompanying evaluator of any successfully parsed expressions. The presentation is in a step by step fashion, starting with this parser which does nothing but echo its input and culminating in one that can handle the ternary conditional operator with both string and numeric operands.\n",
    "\n",
    "This is largely a practical demonstration. There is almost no discussion of theory regarding grammars, Backus Naur Form (BNF), LL(n) versus LR(n) parsers, abstract syntax trees, top-down versus bottom-up parsing, and so on. Instead the emphasis is on making the parser do something, then making it do a little more, and so on, until eventually it meets the goals established for it.\n",
    "\n",
    "What discussion there is focuses mainly on what the current step is supposed to accomplish, what problems are faced, what alternatives might be used to solve them, and why a particular solution was selected. The goal of any particular step is dictated mainly by what I found interesting or wanted to learn more about. The resulting sequence is leisurely and discursive. I will not argue that any of this results in the best possible parser. What is presented here is merely one approach to solving the general problem.\n",
    "\n",
    "I orignally started this project mainly to explore an idea I had about type checking, but also use it as an excuse to wander around and play with anything else that catches my fancy. That’s one of the advantages of doing something just for fun.\n",
    "\n",
    "Feel free to take a similar approach to reading about it. If anything seems too easy or too difficult or too boring, skip it or come back to it later. It’s not as if there’s going to be a test 🙂 \n",
    "\n",
    ">This is a revised and updated version of a [similar series](https://anexpressionparser.wordpress.com/2015/08/27/introduction/) I wrote in [AWK](https://en.wikipedia.org/wiki/AWK) some years ago. With any luck it is also an improved version. In any case, another goal is a better understanding of both Python and Jupyter notebook.\n",
    "\n",
    "## Scaffold\n",
    "\n",
    "Our first parser and evaluator are nulls and do nothing more than echo their inputs. Their only purpose is to verify that our support functions works properly. This scaffolding consists of functions and variables \"outside and around\" the parser and evaluator. They are not directly part of either but are instead simply convenient ways to interact with them.\n",
    "\n",
    "For this version we implement only the minimum number of these we need to get started, but as we go on we will modify and add to them.\n",
    "\n",
    "\n",
    "## User output"
   ]
  },
  {
   "cell_type": "code",
   "execution_count": null,
   "metadata": {},
   "outputs": [],
   "source": [
    "def UIwriteln(this):\n",
    "    '''write a single line to output'''\n",
    "    print( f'{this}\\n' )\n",
    "    \n",
    "def UIwriteSep():\n",
    "    '''write a visual seperator'''\n",
    "    UIwriteln( '--------------')\n",
    "\n",
    "def UIshow(tag, value):\n",
    "    '''write a tagged value'''\n",
    "    UIwriteln( f'{tag}: {value}' )"
   ]
  },
  {
   "cell_type": "markdown",
   "metadata": {},
   "source": [
    "The idea here is to centralize output in one place so we can easily change it if needed. It helps that we don't need anything particularly sophisticated."
   ]
  },
  {
   "cell_type": "markdown",
   "metadata": {},
   "source": [
    "## Parser"
   ]
  },
  {
   "cell_type": "code",
   "execution_count": null,
   "metadata": {},
   "outputs": [],
   "source": [
    "# a null parser that merely echoes its input\n",
    "\n",
    "versionNumber = '0.00'\n",
    "\n",
    "def PEdoparse(this):\n",
    "    return (True, this)"
   ]
  },
  {
   "cell_type": "markdown",
   "metadata": {},
   "source": [
    "## Evaluator"
   ]
  },
  {
   "cell_type": "code",
   "execution_count": null,
   "metadata": {},
   "outputs": [],
   "source": [
    "# a null evaluator that merely echoes its input\n",
    "\n",
    "def EEdoeval(this):\n",
    "    return (True, this)"
   ]
  },
  {
   "cell_type": "markdown",
   "metadata": {},
   "source": [
    "Although these are currently null functions, future versions will need some way of distinguishing successful executions from failed ones. It will not do to use **None** as a flag value since Python does not distinguish between it and a zero value in a Boolean context - and zero is a perfectly valid number to use in an expression.\n",
    "\n",
    "Basically we need to know two things. First, whether or not a parse or evaluation was successful. And second, if it was, the actual result.\n",
    "\n",
    "One way to do this is to always have these functions return just a flag value indicating success or failure. The actual result would be stored seperately for later retrieval.\n",
    "\n",
    ">We could also do it the other way around, returning the result and storing the flag. This is messier because we would always have to retrieve the flag for checking after each parse or evaluation. If we return a flag we don't have to bother trying to retrieve any result after a failure.\n",
    "\n",
    "These methods work, and may be the only options in programming languages which restrict functions to returning just a single result. But Python allows us to pack both the flag and the result into a tuple for returning, where the caller can unpack it using a simple syntax.\n",
    "\n",
    "Which is what we will do."
   ]
  },
  {
   "cell_type": "markdown",
   "metadata": {},
   "source": [
    "## Run the parser"
   ]
  },
  {
   "cell_type": "code",
   "execution_count": null,
   "metadata": {},
   "outputs": [],
   "source": [
    "def startUp():\n",
    "    '''begin execution'''\n",
    "    UIshow( 'Parser', versionNumber )\n",
    "    \n",
    "def shutDown():\n",
    "    '''terminate execution'''\n",
    "    UIwriteSep()\n",
    "\n",
    "def parseOne(this):\n",
    "    '''parse/evaluate one expression'''\n",
    "    UIwriteSep()\n",
    "    UIshow( 'Input', this )\n",
    "    ok, res = PEdoparse( this )\n",
    "    if ok:\n",
    "        UIshow( 'Final Parse', res )\n",
    "        ok, res = EEdoeval( res )\n",
    "        if ok:\n",
    "            UIshow( 'Final Eval', res )"
   ]
  },
  {
   "cell_type": "markdown",
   "metadata": {},
   "source": [
    "Simple functions to exercise the parser and evaluator."
   ]
  },
  {
   "cell_type": "markdown",
   "metadata": {},
   "source": [
    "## Interactive use"
   ]
  },
  {
   "cell_type": "code",
   "execution_count": null,
   "metadata": {},
   "outputs": [],
   "source": [
    "def parse():\n",
    "    startUp()\n",
    "    while True:\n",
    "        inp = input( 'Expression: ' )\n",
    "        UIwriteln( '' )                      # looks better with a blank line here\n",
    "        if inp.upper()[0] == 'Q':\n",
    "            break\n",
    "        elif inp.strip():\n",
    "            parseOne( inp )\n",
    "    shutDown()"
   ]
  },
  {
   "cell_type": "markdown",
   "metadata": {},
   "source": [
    "*parse()* just runs a loop that accepts user input and feeds it to the parser until it sees an input value that starts with the letter **Q** (for *'quit'*). If the result is not anything equivalent to **False** (which in this version it will never be), it is fed to the evaluator.\n",
    "\n",
    "In the next version we will add the capability to process test files containing multiple expressions for parsing and evaluation."
   ]
  },
  {
   "cell_type": "markdown",
   "metadata": {},
   "source": [
    "## Testing the parser"
   ]
  },
  {
   "cell_type": "code",
   "execution_count": null,
   "metadata": {},
   "outputs": [],
   "source": [
    "parse()       # interactive, one expression at a time"
   ]
  },
  {
   "cell_type": "markdown",
   "metadata": {},
   "source": [
    "A convenient cell for both initializing the parser and then using it interactively. With the focus in this cell, click **Run All Above** in the **Cell** menu to initialize all the code cells. Click the **Run** button to start the parse loop."
   ]
  }
 ],
 "metadata": {
  "kernelspec": {
   "display_name": "Python 3",
   "language": "python",
   "name": "python3"
  },
  "language_info": {
   "codemirror_mode": {
    "name": "ipython",
    "version": 3
   },
   "file_extension": ".py",
   "mimetype": "text/x-python",
   "name": "python",
   "nbconvert_exporter": "python",
   "pygments_lexer": "ipython3",
   "version": "3.7.5"
  }
 },
 "nbformat": 4,
 "nbformat_minor": 2
}
