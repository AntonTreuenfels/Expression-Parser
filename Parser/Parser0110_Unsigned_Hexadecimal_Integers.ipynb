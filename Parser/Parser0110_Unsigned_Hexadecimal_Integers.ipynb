{
 "cells": [
  {
   "cell_type": "markdown",
   "metadata": {},
   "source": [
    "# Parser 1.10 - Unsigned Hexadecimal Literals\n",
    "\n",
    "The goal of this step is to add the ability to recognize [unsigned hexadecimal (base 16)](https://en.wikipedia.org/wiki/Hexadecimal) integers.\n",
    "\n",
    "Contemporary digital computers most often operate in [binary (base 2)](https://en.wikipedia.org/wiki/Binary_number) at the hardware level. The need to specify values in that base thus arises naturally. In low level languages such as [assembly](https://en.wikipedia.org/wiki/Assembly_language) it is common for numeric values to be specified as strings of '1's and '0's. However beyond a few digits most humans cannot easily distinguish between such values. Additionally, assembly languages tend to be tied to specific hardware architectures and are not portable between computers with different architectures.\n",
    "\n",
    "More portable high level languages may not support binary numbers as a basic type. Instead numbers expressed as higher powers of two might be allowed. Base 16 essentially groups together four binary digits into a more compact form that humans find much more readable than binary. This also works well with computer memory cells whose fundamental unit size is eight bits, as two hexadecimal digits are sufficient to represent all 256 possible combinations of eight bits.\n",
    "\n",
    ">[Octal (base 8)](https://en.wikipedia.org/wiki/Octal), which groups bits by threes, is another representation commonly used when the fundamental memory cell size is a [multiple of three](https://en.wikipedia.org/wiki/18-bit_computing).\n",
    "\n",
    "Unsigned hexadecimal literals require sixteen symbols to stand for sixteen values. Any set of sixteen unique characters will do, but by far the most common convention is the ten decimal characters plus the first six English alphabetic characters in order:\n",
    "\n",
    "`{ 0,1,2,3,4,5,6,7,8,9,A,B,C,D,E,F }`\n",
    "\n",
    "The case of the alphabetic characters is generally considered insignificant, so **67A** and **67a** represent the same number.\n",
    "\n",
    ">We can represent any base up to base 36 by extending this convention to the 26 English language letters (a capability Python [already provides](https://docs.python.org/3.4/library/functions.html?highlight=int#int), which we are ignoring for the same reason we did for unsigned decimal integers). To even higher bases if we are willing to include non-alphanumeric characters or to distinguish between upper- and lower-case characters. These representations are not particularly human readable, but can be useful for [encoding binary data as text](https://en.wikipedia.org/wiki/Binary-to-text_encoding) for transmission over computer networks or storage purposes. [Base 64](https://en.wikipedia.org/wiki/Base64) encoding is one example.\n",
    "\n",
    "A problem arises because the set of characters we will use includes as a subset all the symbols used for unsigned decimal literals. This means the parser could not tell which base is meant if it encountered a numeric literal expressed using only that subset. For example, the first two-digit number is **10** in both notations, but stands the value 10 in decimal and the value 16 in hexadecimal.\n",
    "\n",
    "Many programming languages address this problem by decorating numeric literals with additional symbols to distinguish which base is meant. For example, Intel x86 assembly language uses an optional suffix of 'D' for decimal numbers and a required suffix of 'H' for hexadecimal numbers. Thus **10D** represents the value 10, and **10H** the value 16.\n",
    "\n",
    ">This can be considered an example of *manifest typing*, ie., making it possible to tell what kind of data we’re dealing with simply by looking at it.\n",
    "\n",
    "For our purposes we’ll adopt the convention pioneered by the [‘C’ programming language](https://en.wikipedia.org/wiki/C_(programming_language)) of prefixing hexadecimal literals with the characters **0X**. Our hexadecimal literals will match the regular expression\n",
    "\n",
    "`0[xX][0-9a-fA-F]+`\n",
    "\n",
    "This means *a prefix of '0x' or '0X', followed by one or more hexadecimal characters in either case*. This allows the alphabetic characters of unsigned hexadecimal literals to be expressed in whichever case the user prefers. The parser will have to account for that at some point. This is easy enough and better still, reduces the cognitive load on users by not requiring them to remember an arbitrary and unnecessary case convention."
   ]
  },
  {
   "cell_type": "markdown",
   "metadata": {},
   "source": [
    "## Libraries"
   ]
  },
  {
   "cell_type": "code",
   "execution_count": null,
   "metadata": {},
   "outputs": [],
   "source": [
    "import glob            # for directory processing\n",
    "\n",
    "import re              # for regular expressions"
   ]
  },
  {
   "cell_type": "markdown",
   "metadata": {},
   "source": [
    "We will use the **glob** library for locating test files used for regression testing. It will not be used in the parser itself."
   ]
  },
  {
   "cell_type": "markdown",
   "metadata": {},
   "source": [
    "## User output"
   ]
  },
  {
   "cell_type": "code",
   "execution_count": null,
   "metadata": {},
   "outputs": [],
   "source": [
    "def UIwriteln(this):\n",
    "    '''write a single line to output'''\n",
    "    print( f'{this}\\n' )\n",
    "    \n",
    "def UIwriteSep():\n",
    "    '''write a visual seperator'''\n",
    "    UIwriteln( '--------------')\n",
    "\n",
    "def UIshow(tag, value):\n",
    "    '''write a tagged value to output'''\n",
    "    UIwriteln( f'{tag}: {value}' )\n",
    "\n",
    "def UIerror(this):\n",
    "    '''write an error message to output'''\n",
    "    UIshow( 'Error', this )"
   ]
  },
  {
   "cell_type": "markdown",
   "metadata": {},
   "source": [
    "# Parser"
   ]
  },
  {
   "cell_type": "code",
   "execution_count": null,
   "metadata": {},
   "outputs": [],
   "source": [
    "versionNumber = '1.10'\n",
    "\n",
    "# operands accepted:\n",
    "# - decimal integer literals\n",
    "# - hexadecimal integer literals\n",
    "\n",
    "# errors detected:\n",
    "# - unrecognized input\n",
    "# - out of range numeric input\n",
    "\n",
    "# result tuple:\n",
    "# - (True, number)\n",
    "# - (False, None)\n",
    "\n",
    "def PEdoparse(this):\n",
    "    \n",
    "    uintMax = 4294967295                  # 2**32-1, for range checking\n",
    "    \n",
    "    # convert unsigned literal to internal form\n",
    "    # - all chars in input known to be legal hexadecimal characters\n",
    "    # - checks that value is within range\n",
    "    \n",
    "    def convertUint(ulit, base):\n",
    "        \n",
    "        uint = 0\n",
    "        \n",
    "        # isolate the significant portion of 'ulit'\n",
    "        # - this drops any leading prefix and all leading zeroes\n",
    "        # - if search fails, then input is all zeroes (and so is value)\n",
    "        \n",
    "        p = re.search('[1-9A-F][0-9A-F]*', ulit.upper())\n",
    "        \n",
    "        if p != None:\n",
    "            for digit in p.group():\n",
    "                digval = '0123456789ABCDEF'.find(digit)\n",
    "                if uint <= (uintMax - digval)/base:\n",
    "                    uint =  uint * base + digval\n",
    "                else:\n",
    "                    UIerror(f'\\'{ulit}\\' is out of range')\n",
    "                    return (False, None)\n",
    "        \n",
    "        return (True, uint)\n",
    "        \n",
    "    # top level\n",
    "    \n",
    "    # unsigned hexadecimal literal ?\n",
    "    \n",
    "    if re.fullmatch('0[xX][0-9a-fA-F]+', this):\n",
    "        return convertUint(this, 16)\n",
    "        \n",
    "    # unsigned decimal literal ?\n",
    "    \n",
    "    elif re.fullmatch('[0-9]+', this):\n",
    "        return convertUint(this, 10)\n",
    "    \n",
    "    # don't know what it is\n",
    "    \n",
    "    else:\n",
    "        UIerror(f'\\'{this}\\' not recognized')\n",
    "        return(False, None)\n"
   ]
  },
  {
   "cell_type": "markdown",
   "metadata": {},
   "source": [
    "The function *PEdoparse()* is modified to recognize our unsigned hexadecimal literals. But what should it do with them after that?\n",
    "\n",
    "One possibility is to write a new function *convertHex()* by duplicating the entire function *convertUint()*, except replacing every reference to base ten with one to base 16. However this is relatively uninteresting because we already know how to do that. It is slightly more challenging to modify *convertUint()* so that the base being converted from is passed as a parameter.\n",
    "\n",
    "We'll start by modifying *convertUint()* to accept a base parameter. As written the function can convert unsigned numeric literals in any base from two to 16, although here we'll use it only for bases ten and 16.\n",
    "\n",
    ">The ability to convert from still higher bases can be added by adjusting the arguments of *re.search()* and *find()* to recognize the mapping of additional characters to values.\n",
    "\n",
    "At the start of conversion, we know that the input literal contains characters allowed in the base we want to convert from. Thus we can safely use a regular expression in *re.search()* that covers the highest base we want to accept. Since the maximum base we will accept is 16, we can use the regular expression\n",
    "\n",
    "```Python\n",
    "[1-9A-F][0-9A-F]*\n",
    "```\n",
    "\n",
    "Which means *the first non-zero legal hexadecimal symbol together with any succeding legal hexadecimal symbols*. This will skip over the **0X** prefix and any immediately following **0** characters, relieving us from having to deal with them. If it skips over all of them, meaning no match at all, then all of the significant characters in the literal must be **0**. Which means its value is zero, so that's what we'll return.\n",
    "\n",
    "We'll also take the opportunity to deal with the case problem in *re.search()*. This could have been dealt with by uppercasing hexadecimal literals as part of the call to *convertUint()*. This would have saved a tiny amount of processing power by avoiding uppercasing decimal literals, which never contain alphabetic characters.\n",
    "\n",
    ">However any base greater than ten requires the precaution of uppercasing. If the abilty to recognize such a base is added, converting it during the call would increase code size because of the duplication. Always doing so at one place within the called function minimizes code size and also relieves a maintenance programmer from having to worry about it.\n",
    "\n",
    "In the case of unsigned decimal integer literals only the digit characters **0** to **9** will actually be present. It makes no difference to *convertUint*. We can use the expression\n",
    "\n",
    "```Python\n",
    "digval = '0123456789ABCDEF'.find(digit)\n",
    "```\n",
    "\n",
    "secure in the knowledge that *digval* will never be greater than nine since the characters **A** to **F** are not present in the input literal."
   ]
  },
  {
   "cell_type": "markdown",
   "metadata": {},
   "source": [
    "# Evaluator"
   ]
  },
  {
   "cell_type": "code",
   "execution_count": null,
   "metadata": {},
   "outputs": [],
   "source": [
    "# a null evaluator that does nothing\n",
    "\n",
    "def EEdoeval(this):\n",
    "    return (True, this)\n"
   ]
  },
  {
   "cell_type": "markdown",
   "metadata": {},
   "source": [
    "## Running the parser"
   ]
  },
  {
   "cell_type": "code",
   "execution_count": null,
   "metadata": {},
   "outputs": [],
   "source": [
    "passCnt = failCnt = 0                       # most useful for test input files, but never any harm\n",
    "\n",
    "def startUp():\n",
    "    '''begin execution'''\n",
    "    global passCnt, failCnt\n",
    "    UIshow( 'Parser', versionNumber )\n",
    "    passCnt = failCnt = 0\n",
    "    \n",
    "def shutDown():\n",
    "    '''terminate execution'''\n",
    "    UIwriteSep()\n",
    "    UIshow( 'Pass', passCnt )\n",
    "    UIshow( 'Fail', failCnt )\n",
    "    \n",
    "# run parser\n",
    "\n",
    "def parseOne(this):\n",
    "    '''parse/evaluate one expression'''\n",
    "    global passCnt, failCnt\n",
    "    UIwriteSep()\n",
    "    UIshow( 'Input', this )\n",
    "    ok, res = PEdoparse( this )\n",
    "    if ok:\n",
    "        UIshow( 'Final Parse', res )\n",
    "        ok, res = EEdoeval( res )\n",
    "        if ok:\n",
    "            UIshow( 'Final Eval', res )\n",
    "    if ok:\n",
    "        passCnt += 1\n",
    "    else:\n",
    "        failCnt += 1"
   ]
  },
  {
   "cell_type": "markdown",
   "metadata": {},
   "source": [
    "## Interactive use"
   ]
  },
  {
   "cell_type": "code",
   "execution_count": null,
   "metadata": {},
   "outputs": [],
   "source": [
    "def parse():\n",
    "    \n",
    "    startUp()\n",
    "    while True:\n",
    "        inp = input( 'Expression: ' )\n",
    "        UIwriteln( '' )                      # looks better with a blank line here\n",
    "        if inp.upper()[0] == 'Q':\n",
    "            break\n",
    "        elif inp.strip():\n",
    "            parseOne( inp )\n",
    "    shutDown()"
   ]
  },
  {
   "cell_type": "markdown",
   "metadata": {},
   "source": [
    "## Batch processing"
   ]
  },
  {
   "cell_type": "code",
   "execution_count": null,
   "metadata": {},
   "outputs": [],
   "source": [
    "testDir = '..\\\\ParserTest\\\\'            # directory holding test input files (empty string if same as notebook directory)\n",
    "\n",
    "# convert current version number to match test file numbers\n",
    "# - done this way so we can update only the version number and everything still works\n",
    "\n",
    "def currNum():\n",
    "    \n",
    "    head = versionNumber[:len(versionNumber)-3]\n",
    "    tail = versionNumber[-2:]\n",
    "    return f'{head:0>2}{tail}'\n",
    "\n",
    "# make full path name to test file\n",
    "\n",
    "def makePath(typ, num):\n",
    "    return f'{testDir}{typ}{num}.txt'\n",
    "\n",
    "# run one test\n",
    "\n",
    "def runTest(this):\n",
    "    \n",
    "    UIwriteln(f'Parser {versionNumber} vs {this[-12:-4]}')\n",
    "    \n",
    "    with open(this) as f:\n",
    "        data = f.readlines()            # read the whole file\n",
    "    for line in data:\n",
    "        test = line.strip()\n",
    "        if test and test[0] != '#':     # skip blank and comment lines\n",
    "            parseOne(test)\n",
    "    \n",
    "# run a test of current or specified version which should succeed\n",
    "    \n",
    "def good(num='curr'):\n",
    "  \n",
    "    startUp()\n",
    "    runTest(makePath('pass', currNum() if num == 'curr' else num))\n",
    "    shutDown()\n",
    "    \n",
    "# run a test of current or specified version which should fail\n",
    "\n",
    "def bad(num='curr'):\n",
    "    \n",
    "    startUp()\n",
    "    runTest(makePath('fail', currNum() if num == 'curr' else num))\n",
    "    shutDown()\n",
    "    \n",
    "# run regression test against current and all previous test files\n",
    "\n",
    "def regress():\n",
    "            \n",
    "    UIwriteln('PASS tests')\n",
    "    \n",
    "    currFn = makePath('pass', currNum())\n",
    "\n",
    "    startUp()\n",
    "    failed = []\n",
    "    fnlist = glob.glob(f'{testDir}pass????.txt')\n",
    "    for fn in fnlist:\n",
    "        if fn <= currFn:\n",
    "            atstart = failCnt\n",
    "            runTest(fn)\n",
    "            if atstart < failCnt:\n",
    "                failed.append(fn)               \n",
    "    shutDown()\n",
    "    \n",
    "    UIwriteln('FAIL tests')\n",
    "    \n",
    "    currFn = makePath('fail',currNum())\n",
    "\n",
    "    startUp()\n",
    "    passed = []\n",
    "    fnlist = glob.glob(f'{testDir}fail????.txt')\n",
    "    for fn in fnlist:\n",
    "        if fn <= currFn:\n",
    "            atstart = passCnt\n",
    "            runTest(fn)\n",
    "            if atstart < passCnt:\n",
    "                passed.append(fn)               \n",
    "    shutDown()\n",
    "    \n",
    "    if not len(failed):\n",
    "        UIwriteln('All pass tests succeded')\n",
    "    else:\n",
    "        UIwriteln('Pass tests which failed')\n",
    "        for fn in failed:\n",
    "            UIwriteln(f'  {fn}')\n",
    "            \n",
    "    if not len(passed):\n",
    "        UIwriteln('All fail tests succeded')\n",
    "    else:\n",
    "        UIwriteln('Fail tests which passed')\n",
    "        for fn in passed:\n",
    "            UIwriteln(f'   {fn}')\n",
    "              "
   ]
  },
  {
   "cell_type": "markdown",
   "metadata": {},
   "source": [
    "### Testing the parser\n",
    "\n",
    "Now that there is more than one functioning parser, it is useful to add regression to testing.\n",
    "\n",
    "We have added one new function to the batch processing section:\n",
    "\n",
    "- *regress()* takes no arguments. It tests the parser against the current and all previous pass and fail test files. The purpose is to make sure that no change we have made breaks anything that used to work. The name of any test with an unexpected result is listed after the end of all tests.\n",
    "\n",
    "We have modified two functions to make the parser capable of being run against specific tests:\n",
    "\n",
    "- *good()* takes one optional argument. If no argument is supplied, then by default *good()* runs the parser against the pass test designed for it. If an argument is supplied, it should be the four digit number of the pass test to run the parser against. This can be any test for any reason, but is meant for the case when *regress()* reported the unfortunate result that a pass test got broken. This provides a simple means of checking to see if a bug fix works.\n",
    "\n",
    "\n",
    "- *bad()* takes one optional argument. It has the same characteristics and purpose as for *good()*, except for fail tests."
   ]
  },
  {
   "cell_type": "code",
   "execution_count": null,
   "metadata": {},
   "outputs": [],
   "source": [
    "parse()       # interactive, one expression at a time"
   ]
  },
  {
   "cell_type": "code",
   "execution_count": null,
   "metadata": {},
   "outputs": [],
   "source": [
    "good()        # run current parser against its own pass test. Use good('1234') to run against specific pass test."
   ]
  },
  {
   "cell_type": "code",
   "execution_count": null,
   "metadata": {},
   "outputs": [],
   "source": [
    "bad()         # run current parser against its own fail test. Use bad('5678') to run against specific fail test."
   ]
  },
  {
   "cell_type": "code",
   "execution_count": null,
   "metadata": {},
   "outputs": [],
   "source": [
    "regress()     # run parser against all previous and current tests"
   ]
  },
  {
   "cell_type": "code",
   "execution_count": null,
   "metadata": {},
   "outputs": [],
   "source": []
  }
 ],
 "metadata": {
  "kernelspec": {
   "display_name": "Python 3",
   "language": "python",
   "name": "python3"
  },
  "language_info": {
   "codemirror_mode": {
    "name": "ipython",
    "version": 3
   },
   "file_extension": ".py",
   "mimetype": "text/x-python",
   "name": "python",
   "nbconvert_exporter": "python",
   "pygments_lexer": "ipython3",
   "version": "3.7.5"
  }
 },
 "nbformat": 4,
 "nbformat_minor": 2
}
